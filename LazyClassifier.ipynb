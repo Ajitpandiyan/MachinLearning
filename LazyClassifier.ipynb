{
 "cells": [
  {
   "cell_type": "markdown",
   "id": "5fdb776d",
   "metadata": {},
   "source": [
    "How to run multiple Machine Learning Algorithms at onces?\n",
    "\n",
    "During Machine learning projects, we often look to get the best possible results by trying multiple algorithms.\n",
    "\n",
    "This is extremely time consuming.\n",
    "\n",
    "Indeed, for each algorithm, we may have to load new libraries, declare a new object, re-train the model and store the results.\n",
    "\n",
    "Python library(lazy predict) allows to test a set of the most used algorithms in data science in one go!\n",
    "\n",
    "It's really useful, especially to have a first overview and to know which Machine Learning solution to turn to for further analysis."
   ]
  },
  {
   "cell_type": "code",
   "execution_count": 3,
   "id": "730d3eed",
   "metadata": {},
   "outputs": [],
   "source": [
    "from sklearn.datasets import load_breast_cancer\n",
    "from sklearn.model_selection import train_test_split\n",
    "from lazypredict.Supervised import LazyClassifier"
   ]
  },
  {
   "cell_type": "code",
   "execution_count": 4,
   "id": "5ea8a0cf",
   "metadata": {},
   "outputs": [],
   "source": [
    "data = load_breast_cancer()\n",
    "X = data.data\n",
    "y = data.target\n"
   ]
  },
  {
   "cell_type": "code",
   "execution_count": 5,
   "id": "0b8c7d28",
   "metadata": {},
   "outputs": [
    {
     "name": "stderr",
     "output_type": "stream",
     "text": [
      " 31%|█████████████████████████▊                                                         | 9/29 [00:00<00:00, 22.56it/s]C:\\Users\\Ajit Pandiyan\\.conda\\lib\\site-packages\\sklearn\\semi_supervised\\_label_propagation.py:222: RuntimeWarning: invalid value encountered in true_divide\n",
      "  probabilities /= normalizer\n",
      " 41%|█████████████████████████████████▉                                                | 12/29 [00:02<00:04,  3.57it/s]C:\\Users\\Ajit Pandiyan\\.conda\\lib\\site-packages\\sklearn\\semi_supervised\\_label_propagation.py:222: RuntimeWarning: invalid value encountered in true_divide\n",
      "  probabilities /= normalizer\n",
      "100%|██████████████████████████████████████████████████████████████████████████████████| 29/29 [00:03<00:00,  8.30it/s]\n"
     ]
    }
   ],
   "source": [
    "X_train, X_test, y_train, y_test = train_test_split(X,y,test_size=0.5,random_state=11)\n",
    "clf = LazyClassifier(verbose=0,ignore_warnings=True,custom_metric=None)\n",
    "model,prediction = clf.fit(X_train, X_test, y_train, y_test)"
   ]
  },
  {
   "cell_type": "code",
   "execution_count": 6,
   "id": "7b14394b",
   "metadata": {},
   "outputs": [
    {
     "name": "stdout",
     "output_type": "stream",
     "text": [
      "                               Accuracy  Balanced Accuracy  ROC AUC  F1 Score  Time Taken\n",
      "Model                                                                                    \n",
      "SGDClassifier                      0.97               0.96     0.96      0.97        0.01\n",
      "SVC                                0.97               0.96     0.96      0.97        0.02\n",
      "QuadraticDiscriminantAnalysis      0.97               0.96     0.96      0.97        0.01\n",
      "ExtraTreesClassifier               0.97               0.96     0.96      0.97        0.12\n",
      "LGBMClassifier                     0.96               0.96     0.96      0.96        0.10\n",
      "PassiveAggressiveClassifier        0.96               0.96     0.96      0.96        0.01\n",
      "LogisticRegression                 0.96               0.96     0.96      0.96        0.02\n",
      "AdaBoostClassifier                 0.96               0.96     0.96      0.96        0.14\n",
      "KNeighborsClassifier               0.97               0.96     0.96      0.97        0.07\n",
      "LinearSVC                          0.96               0.96     0.96      0.96        0.01\n",
      "Perceptron                         0.96               0.96     0.96      0.96        0.01\n",
      "XGBClassifier                      0.96               0.95     0.95      0.96        0.07\n",
      "RidgeClassifierCV                  0.96               0.95     0.95      0.96        0.05\n",
      "CalibratedClassifierCV             0.96               0.95     0.95      0.96        0.05\n",
      "RandomForestClassifier             0.96               0.94     0.94      0.96        0.17\n",
      "LabelPropagation                   0.95               0.94     0.94      0.95        2.06\n",
      "LabelSpreading                     0.95               0.94     0.94      0.95        0.02\n",
      "RidgeClassifier                    0.95               0.94     0.94      0.95        0.02\n",
      "BaggingClassifier                  0.95               0.94     0.94      0.95        0.04\n",
      "LinearDiscriminantAnalysis         0.95               0.94     0.94      0.95        0.33\n",
      "GaussianNB                         0.95               0.93     0.93      0.95        0.01\n",
      "NuSVC                              0.95               0.93     0.93      0.95        0.02\n",
      "DecisionTreeClassifier             0.94               0.93     0.93      0.94        0.01\n",
      "BernoulliNB                        0.94               0.93     0.93      0.94        0.07\n",
      "NearestCentroid                    0.92               0.91     0.91      0.92        0.01\n",
      "ExtraTreeClassifier                0.91               0.91     0.91      0.91        0.01\n",
      "DummyClassifier                    0.64               0.50     0.50      0.49        0.01\n"
     ]
    }
   ],
   "source": [
    "print(model)"
   ]
  },
  {
   "cell_type": "code",
   "execution_count": null,
   "id": "42225f9d",
   "metadata": {},
   "outputs": [],
   "source": []
  },
  {
   "cell_type": "code",
   "execution_count": null,
   "id": "47d94176",
   "metadata": {},
   "outputs": [],
   "source": []
  },
  {
   "cell_type": "code",
   "execution_count": null,
   "id": "0526f3a1",
   "metadata": {},
   "outputs": [],
   "source": []
  }
 ],
 "metadata": {
  "kernelspec": {
   "display_name": "Python 3 (ipykernel)",
   "language": "python",
   "name": "python3"
  },
  "language_info": {
   "codemirror_mode": {
    "name": "ipython",
    "version": 3
   },
   "file_extension": ".py",
   "mimetype": "text/x-python",
   "name": "python",
   "nbconvert_exporter": "python",
   "pygments_lexer": "ipython3",
   "version": "3.9.7"
  }
 },
 "nbformat": 4,
 "nbformat_minor": 5
}
